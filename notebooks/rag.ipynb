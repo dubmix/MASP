{
 "cells": [
  {
   "cell_type": "code",
   "execution_count": 1,
   "metadata": {},
   "outputs": [],
   "source": [
    "import os\n",
    "from dotenv import load_dotenv\n",
    "\n",
    "load_dotenv()\n",
    "\n",
    "os.environ[\"OPENAI_API_KEY\"] = os.getenv(\"OPENAI_API_KEY\")"
   ]
  },
  {
   "cell_type": "code",
   "execution_count": 2,
   "metadata": {},
   "outputs": [],
   "source": [
    "from langchain import hub\n",
    "from langchain_community.document_loaders import WebBaseLoader, SeleniumURLLoader\n",
    "from langchain_community.vectorstores import Chroma\n",
    "from langchain_core.output_parsers import StrOutputParser\n",
    "from langchain_core.runnables import RunnablePassthrough\n",
    "from langchain_openai import ChatOpenAI, OpenAIEmbeddings\n",
    "from langchain_text_splitters import RecursiveCharacterTextSplitter\n",
    "from langchain.schema import AIMessage, HumanMessage, SystemMessage\n",
    "from langchain.prompts import PromptTemplate\n",
    "import chromadb"
   ]
  },
  {
   "cell_type": "code",
   "execution_count": 3,
   "metadata": {},
   "outputs": [
    {
     "data": {
      "text/plain": [
       "\"Vector Databases: Getting Started With ChromaDB and More | HackerNoonReadWriteNotificationssee  moreLOGIN / SIGNUPVector Databases: Getting Started With ChromaDB and More‚ÄÇby@shyamganesh 3,100 readsVector Databases: Getting Started With ChromaDB and MoreFebruary 13th 20245m by  @shyamganesh  3,100 readsToo Long; Didn't ReadIn this article, we will explore another well-known vector store called ChromaDB. Chroma DB is a vector store that is open-source and is utilized for the retrieval of vector embeddings. We will create a vectors store, add collections, add text to the collection, and perform a query search with and without meta filtering.cloud #vector-database #vector-search@shyamganeshShyam Ganesh SAn IT professional with a keen interest in delving into the realm of Machine Learning.Receive Stories from @shyamganeshSUBSCRIBE SUBSCRIBE TO RECEIVE THIS WRITER'S CONTENT STRAIGHT TO YOUR INBOX!Credibilityby Shyam Ganesh S @shyamganesh.An IT professional with a keen interest in delving into the realm of Machine Learning.Read my stories RELATED STORIESVector Databases - Basics of Vector Search and Langchain Package in PythonPublished at Sep 30, 2023 by shyamganesh  #programming  Decoding Liquid Staking: Revolutionizing DeFi Staking with Flexibility and RewardsPublished at Feb 28, 2024 by sergey-baloyan  #liquid-staking  How To Connect Your HP Printer with Your WPS PinPublished at Nov 14, 2021 by Amarzid  #wps-pin  Angular State Management: A Comparison of the Different Options AvailablePublished at Sep 27, 2023 by chintanonweb  #angular  L O A D I N G. . . comments &  more!\\n\""
      ]
     },
     "execution_count": 3,
     "metadata": {},
     "output_type": "execute_result"
    }
   ],
   "source": [
    "website = \"https://hackernoon.com/vector-databases-getting-started-with-chromadb-and-more\"\n",
    "\n",
    "def load_document(loader_class, website_url):\n",
    "    loader = loader_class([website_url])\n",
    "    return loader.load()\n",
    "\n",
    "wb_loader_doc = load_document(WebBaseLoader, website)\n",
    "wb_loader_doc[0].page_content\n"
   ]
  },
  {
   "cell_type": "code",
   "execution_count": 4,
   "metadata": {},
   "outputs": [
    {
     "data": {
      "text/plain": [
       "'3,100 reads\\n\\nVector Databases: Getting Started With ChromaDB and More\\n\\nFebruary 13th 2024\\n\\n5min\\n\\nby  @shyamganesh\\n\\nShyam Ganesh S\\n\\n@shyamganesh\\n\\nAn IT professional with a keen interest in delving into...\\n\\n3,100 reads\\n\\nRead this story in a terminal\\n\\nPrint this story\\n\\nRead this story w/o Javascript\\n\\nToo Long; Didn\\'t ReadIn this article, we will explore another well-known vector store called ChromaDB. Chroma DB is a vector store that is open-source and is utilized for the retrieval of vector embeddings. We will create a vectors store, add collections, add text to the collection, and perform a query search with and without meta filtering.\\n\\ncloud\\n\\n#vector-database\\n\\n#vector-search\\n\\n#vector-embedding\\n\\n#langchain\\n\\n#machine-learning\\n\\n#machinelearning\\n\\n#nlp\\n\\n#vector\\n\\n1x\\n\\nRead by Dr. One (en-US)\\n\\nAudio Presented by\\n\\n@shyamganesh\\n\\nAn IT professional with a keen interest in delving into the realm of Machine Learning.\\n\\nReceive Stories from @shyamganesh\\n\\nSUBSCRIBE TO RECEIVE THIS WRITER\\'S CONTENT STRAIGHT TO YOUR INBOX!\\n\\nCredibility\\n\\nHello, readers; I would like to extend a warm welcome to all of you for reading my blog post. This particular post is my second one, focusing on vector databases. In my previous blog post, I covered the concepts of vectors, vector databases, and vector search. I also provided a practical demonstration of the FAISS vector store using Python. Similarly, in this article, we will delve into another popular vector store known as ChromaDB.\\n\\nIntroduction to ChromaDB\\n\\nIn this part of the article, we will explore what ChromaDB is, its features, and how it works in real-time.\\n\\nWhat is ChromaDB?\\n\\nChroma DB is a vector store that is open-source and is utilized for the storage and retrieval of vector embeddings. Its primary purpose is to store embeddings and associated metadata for future use by extensive language models. Furthermore, it can also be employed for semantic search engines that operate on text data.\\n\\nWhat are the features of ChromaDB?\\n\\nChromaDB offers various storage options, such as DuckDB for standalone use or ClickHouse for scalability. It provides Python and JavaScript/TypeScript SDKs and emphasizes simplicity, speed, and analysis capabilities.\\n\\nChromaDB can store vectors with additional metadata and allows for filtering during the query search on the vector database.\\n\\nChroma DB provides various options for storing vector embeddings.\\n\\nThe options include storing the vector database in-memory, where it is flushed when the RAM is refreshed.\\n\\nStoring it on the local file system and loading it into memory when needed.\\n\\nAnother option is to host the database on a server machine, allowing clients to make requests to the server for each query.\\n\\nHow does ChromaDB work?\\n\\nThe initial step in vector databases is to create a collection, which is similar to a table in a relational database. By default, ChromaDB utilizes the all-MiniLM-L6-V2 model for generating embeddings. The embedding model can be customized according to the user\\'s requirements.\\n\\nDocuments can be added to the collection, and if they are in text format, ChromaDB will automatically convert them into embeddings based on the specified embedding model. It is optional to include meta information when adding a document, but a unique document ID must be provided for identification purposes.\\n\\nAfter creating and populating the collection with documents, we can begin querying the vector store to retrieve similar documents.\\n\\nThe process of filtering the documents while querying is referred to as meta-filtering, and it is also available as an option in ChromaDB.\\n\\nIn the next part, we will use Chroma and all-MiniLM-L6-V2 to create our own vector DB.\\n\\nGetting started with ChromaDB\\n\\nIn this section, we will create a vector store, add collections, add text to the collection, and perform a query search with and without meta-filtering using in-memory ChromaDB.\\n\\nAs the first step, we will try installing the ChromaDB package.\\n\\nOnce the package is installed, try importing the required packages into your working notebook.\\n\\nimport chromadb\\n\\nimport pandas\\n\\nas pd\\n\\nimport numpy\\n\\nas np\\n\\nAfter importing the packages, we will now have a look into our dataset, which we feed to our vector store for training.\\n\\n= pd\\n\\n.read_csv\\n\\n\"/Users/Python_Programs/Text_Similarity/Stanford_Edited.csv\"\\n\\n)\\npassage_data\\n\\nFor this tutorial, I have selected the Stanford dataset.\\n\\nThe dataset has 37,792 rows of data and 3 columns named:\\n\\nId: Unique id to represent each document in the data store.\\n\\nContent: The content of each document.\\n\\nLanguage: The language in which the content is written (for filtering purpose).\\n\\ndataset\\n\\nFor meta-filtering, we will have the language column in the dataset with values en_US as English and ru_RU as Russian. The data count in each of these labels is as follows:\\n\\nlanguage count in dataset\\n\\nHaving explored the dataset, now it is time to prepare the data in the format that the ChromaDB accepts.\\n\\nTo add a set of documents to the Chroma index,\\n\\ndocuments - list of documents(text)\\n\\nmetadatas - list of dictionary that has unique ids to represent the documents (ids should be in String format)\\n\\n= passage_data\\n\\n\\'Content\\'\\n\\n.tolist\\n\\n)\\nmetadatas\\n\\n]\\nids\\n\\nfor idx\\n\\nin\\n\\nrange\\n\\nlen\\n\\n(passage_data\\n\\n:\\n    metadatas\\n\\n.append\\n\\n\"Language\"\\n\\n: passage_data\\n\\n\\'Language\\'\\n\\n[idx\\n\\n)\\n    ids\\n\\n.append\\n\\nstr\\n\\n(passage_data\\n\\n\\'Id\\'\\n\\n[idx\\n\\nThe dataset and input documents with metadata and IDs are prepared. We will create a client connection to ChromaDB.\\n\\n= chromadb\\n\\n.Client\\n\\nOnce the client is initialized, we create a new collection to hold the vectors(data) as an index.\\n\\n= client\\n\\n.create_collection\\n\\n\"Stanford_Collection\"\\n\\nIt is time to add the documents to the index.\\n\\nadd\\n\\n(\\n    documents\\n\\n=documents\\n\\n,\\n    metadatas\\n\\n=metadatas\\n\\n,\\n    ids\\n\\n=ids\\n\\nThere are two approaches to querying the index: querying without filters and querying with filters (known as meta-filtering). We will now attempt both methods.\\n\\nAttempting a query without any filters.\\n\\nAttempting a query with filters (meta-filtering).\\n\\nNow, we will test both approaches.\\n\\n# 1. query without any filters\\nresults\\n\\n= collection\\n\\n.query\\n\\n(\\n    query_texts\\n\\n\"University of Architecture\"\\n\\n,\\n    n_results\\n\\nprint\\n\\n(results\\n\\nResult of query without filters\\n\\nThe output displays three documents that have similarities to the query document (\"University of Architecture\"). It includes the document IDs, distances, and metadata of these documents.\\n\\nNow, we will try a query with a language filter.\\n\\n= collection\\n\\n.query\\n\\n(\\n    query_texts\\n\\n\"University of Architecture\"\\n\\n,\\n    n_results\\n\\n,\\n    where\\n\\n\"Language\"\\n\\n\"en_US\"\\n\\n# optional filter\\n\\nprint\\n\\n(results\\n\\nresult of query with filters\\n\\nThe output displays three documents that are in the English language for the given query. This is how meta-filtering works.\\n\\nFew other functionalities\\n\\nHaving seen the main functionalities of ChromaDB, we will now explore a few other functionalities in short.\\n\\nTo update a document in the Chroma Index:\\n\\n.update\\n\\n(\\n    ids\\n\\n\"2\"\\n\\n,\\n    documents\\n\\n\"This document contains information about medical college\"\\n\\n,\\n    metadatas\\n\\n\"Language\"\\n\\n\"en_US\"\\n\\nThere is slight difference between update() and upsert() in ChromaDB.\\n\\nIn short, if you are trying to update a document which does not exist in the Index:\\n\\nupdate() raises a exception, whereas upsert() tries to insert the document as new vector into the index.\\n\\nTo delete a document from the Chroma Index:\\n\\n.delete\\n\\n(ids\\n\\n\\'1\\'\\n\\nTo get the count of documents present in an index, we use the following:\\n\\nprint\\n\\n(collection\\n\\n.count\\n\\nTo get the documents present in the collection, we use:\\n\\nprint\\n\\n(collection\\n\\n.get\\n\\nTo modify the name of the existing collection:\\n\\n.modify\\n\\n(name\\n\\n\"new_collection_name\"\\n\\nTo delete or drop an Index in ChromeDB, we use:\\n\\n.delete_collection\\n\\n(name\\n\\n\"new_collection_name\"\\n\\nConclusion\\n\\nThis article has presented an introduction to Chroma, a Vector Database that is open source. We have discussed the process of creating collections in Chroma and adding documents to them. Furthermore, we have examined how Chroma DB generates vector embeddings from the data. Lastly, we have gained knowledge on how to retrieve relevant information from a specific collection in the Vector Store based on a given query. I hope this blog post has aided you in exploring another vector database and understanding the concepts clearly. I look forward to seeing you on my next blog.\\n\\nUntil then, happy learning 👍🏻.\\n\\nby Shyam Ganesh S @shyamganesh.\\n\\nAn IT professional with a keen interest in delving into the realm of Machine Learning.\\n\\nRead my stories\\n\\nRELATED STORIES\\n\\nVector Databases - Basics of Vector Search and Langchain Package in Python\\n\\nPublished at Sep 30, 2023 by shyamganesh\\n\\n#programming\\n\\nDecoding Liquid Staking: Revolutionizing DeFi Staking with Flexibility and Rewards\\n\\nPublished at Feb 28, 2024 by sergey-baloyan\\n\\n#liquid-staking\\n\\nHow To Connect Your HP Printer with Your WPS Pin\\n\\nPublished at Nov 14, 2021 by Amarzid\\n\\n#wps-pin\\n\\nAngular State Management: A Comparison of the Different Options Available\\n\\nPublished at Sep 27, 2023 by chintanonweb\\n\\n#angular\\n\\nL O A D I N G\\n\\n. . . comments &\\n\\nmore!'"
      ]
     },
     "execution_count": 4,
     "metadata": {},
     "output_type": "execute_result"
    }
   ],
   "source": [
    "selenium_loader_doc = load_document(SeleniumURLLoader, website)\n",
    "selenium_loader_doc[0].page_content"
   ]
  },
  {
   "cell_type": "code",
   "execution_count": 5,
   "metadata": {},
   "outputs": [
    {
     "data": {
      "text/plain": [
       "Document(page_content='February 13th 2024\\n\\n5min\\n\\nby  @shyamganesh\\n\\nShyam Ganesh S\\n\\n@shyamganesh\\n\\nAn IT professional with a keen interest in delving into...\\n\\n3,100 reads\\n\\nRead this story in a terminal\\n\\nPrint this story', metadata={'source': 'https://hackernoon.com/vector-databases-getting-started-with-chromadb-and-more', 'title': 'Vector Databases: Getting Started With ChromaDB and More | HackerNoon', 'description': 'In this article, we will explore another well-known vector store called ChromaDB. Chroma DB is a vector store that is open-source.', 'language': 'en'})"
      ]
     },
     "execution_count": 5,
     "metadata": {},
     "output_type": "execute_result"
    }
   ],
   "source": [
    "text_splitter = RecursiveCharacterTextSplitter(chunk_size=200, chunk_overlap=200)\n",
    "splits = text_splitter.split_documents(selenium_loader_doc)\n",
    "splits[2]"
   ]
  },
  {
   "cell_type": "code",
   "execution_count": 6,
   "metadata": {},
   "outputs": [],
   "source": [
    "import chromadb\n",
    "import chromadb.utils.embedding_functions as embedding_functions\n",
    "#client = chromadb.PersistentClient(path=\"/src/database/chroma_data\")\n",
    "\n",
    "#client = chromadb.HttpClient(host=\"localhost\", port=8000)\n",
    "#collection = client.create_collection(\"open2_collection\", embedding_function=embedding_functions.OpenAIEmbeddingFunction(api_key=os.environ[\"OPENAI_API_KEY\"]))"
   ]
  },
  {
   "cell_type": "code",
   "execution_count": 7,
   "metadata": {},
   "outputs": [],
   "source": [
    "#collection = client.get_collection(\"open2_collection\")\n",
    "#for n in range(0, 10):\n",
    "#   collection.add(documents=[splits[n].page_content], ids=['id' + str(n)])"
   ]
  },
  {
   "cell_type": "code",
   "execution_count": 8,
   "metadata": {},
   "outputs": [],
   "source": [
    "#You are an assistant for helping refugees to get settled in Germany and give them individual guidenace. Use the following pieces of retrieved context to answer the question and ask follow-up questions. If you don't know the answer, just say that you don't know. Use three sentences maximum and keep the answer concise. Make sure to give a personal experience by asking questions about the personal situation to provide better answers for the next question.\n",
    "\n",
    "prompt = PromptTemplate.from_template(\n",
    "    \"\"\"\n",
    "    This is just a test prompt.\n",
    "    Question: {question} \n",
    "    Context: {context} \n",
    "    Answer:\n",
    "    \"\"\"\n",
    ")"
   ]
  },
  {
   "cell_type": "code",
   "execution_count": 9,
   "metadata": {},
   "outputs": [],
   "source": [
    "llm = ChatOpenAI(model_name=\"gpt-3.5-turbo\", temperature=0)"
   ]
  },
  {
   "cell_type": "code",
   "execution_count": 10,
   "metadata": {},
   "outputs": [],
   "source": [
    "vectorstore = Chroma.from_documents(splits, embedding=OpenAIEmbeddings())\n",
    "#vectorstore.persist()\n",
    "retriever = vectorstore.as_retriever()"
   ]
  },
  {
   "cell_type": "code",
   "execution_count": 11,
   "metadata": {},
   "outputs": [],
   "source": [
    "from langchain.embeddings.sentence_transformer import SentenceTransformerEmbeddings\n",
    "\n",
    "#embedding_function = SentenceTransformerEmbeddings(model_name=\"all-MiniLM-L6-v2\")"
   ]
  },
  {
   "cell_type": "code",
   "execution_count": 12,
   "metadata": {},
   "outputs": [],
   "source": [
    "rag_chain = (\n",
    "    {\"context\": retriever, \"question\": RunnablePassthrough()}\n",
    "    | prompt\n",
    "    | llm\n",
    "    | StrOutputParser()\n",
    ")"
   ]
  },
  {
   "cell_type": "code",
   "execution_count": 13,
   "metadata": {},
   "outputs": [
    {
     "data": {
      "text/plain": [
       "'The context I am getting is related to vector databases, specifically ChromaDB. The output displays documents that have similarities to the query document \"University of Architecture\" and includes document IDs, distances, and metadata of these documents. The metadata includes information about ChromaDB being an open-source vector store. The source of this information is a HackerNoon article titled \"Vector Databases: Getting Started With ChromaDB and More\".'"
      ]
     },
     "execution_count": 13,
     "metadata": {},
     "output_type": "execute_result"
    }
   ],
   "source": [
    "response = rag_chain.invoke(\"What is the context you are getting?\")\n",
    "response"
   ]
  }
 ],
 "metadata": {
  "kernelspec": {
   "display_name": "multimodalgenai",
   "language": "python",
   "name": "python3"
  },
  "language_info": {
   "codemirror_mode": {
    "name": "ipython",
    "version": 3
   },
   "file_extension": ".py",
   "mimetype": "text/x-python",
   "name": "python",
   "nbconvert_exporter": "python",
   "pygments_lexer": "ipython3",
   "version": "3.11.7"
  }
 },
 "nbformat": 4,
 "nbformat_minor": 2
}
