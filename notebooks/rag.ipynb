{
 "cells": [
  {
   "cell_type": "markdown",
   "metadata": {},
   "source": [
    "# RAG Architecture\n",
    "I created a basic RAG architecture which suits our use case. I followed this amazing [tutorial](https://python.langchain.com/docs/use_cases/question_answering/quickstart) and adapted it to our use case and increased transparency. You need to install the requirements with the following command to be able to execute the RAG:\n",
    "```\n",
    "pip install langchain    \n",
    "pip install langchain-community\n",
    "pip install langchainhub\n",
    "pip install langchain-openai\n",
    "pip install chromadb bs4\n",
    "\n",
    "```\n",
    "\n",
    "Further you will need an open AI key. I suggest Pierre creates his own openAI key, then you can handle the payment when I am away on your own. Just follow this [OpenAI-Quickstart](\n",
    "https://platform.openai.com/docs/quickstart?context=python), first register an account and then add the openAI key to your path."
   ]
  },
  {
   "cell_type": "code",
   "execution_count": 2,
   "metadata": {},
   "outputs": [],
   "source": [
    "# put in open ai key manually if you havent added it to the path already\n",
    "import getpass\n",
    "import os\n",
    "\n",
    "os.environ[\"OPENAI_API_KEY\"] = getpass.getpass()"
   ]
  },
  {
   "cell_type": "code",
   "execution_count": 18,
   "metadata": {},
   "outputs": [],
   "source": [
    "# imports\n",
    "import bs4\n",
    "from langchain import hub\n",
    "from langchain_community.document_loaders import WebBaseLoader\n",
    "from langchain_community.vectorstores import Chroma\n",
    "from langchain_core.output_parsers import StrOutputParser\n",
    "from langchain_core.runnables import RunnablePassthrough\n",
    "from langchain_openai import ChatOpenAI, OpenAIEmbeddings\n",
    "from langchain_text_splitters import RecursiveCharacterTextSplitter\n",
    "from langchain.schema import AIMessage, HumanMessage, SystemMessage\n",
    "from langchain.prompts import PromptTemplate"
   ]
  },
  {
   "cell_type": "code",
   "execution_count": 34,
   "metadata": {},
   "outputs": [],
   "source": [
    "# Load, chunk and index the contents of suitable websites\n",
    "loader = WebBaseLoader(\n",
    "    web_paths=(\"https://asylumineurope.org/reports/country/germany/reception-conditions/housing/types-accommodation/\",),\n",
    "    bs_kwargs=dict(\n",
    "        parse_only=bs4.SoupStrainer(\n",
    "            class_=(\"left\")\n",
    "        )\n",
    "    ),\n",
    ")\n",
    "docs = loader.load()\n",
    "\n",
    "text_splitter = RecursiveCharacterTextSplitter(chunk_size=1000, chunk_overlap=200)\n",
    "splits = text_splitter.split_documents(docs)\n",
    "vectorstore = Chroma.from_documents(documents=splits, embedding=OpenAIEmbeddings())\n",
    "\n",
    "# Retrieve and generate using the relevant snippets of the blog.\n",
    "retriever = vectorstore.as_retriever()\n",
    "\n",
    "prompt = PromptTemplate.from_template(\n",
    "    \"\"\"\n",
    "    You are an assistant for helping refugees to get settled in Germany and give them individual guidenace. Use the following pieces of retrieved context to answer the question and ask follow-up questions. If you don't know the answer, just say that you don't know. Use three sentences maximum and keep the answer concise. Make sure to give a personal experience by asking questions about the personal situation to provide better answers for the next question.\n",
    "    Question: {question} \n",
    "    Context: {context} \n",
    "    Answer:\n",
    "    \"\"\"\n",
    ")\n",
    "\n",
    "\n",
    "llm = ChatOpenAI(model_name=\"gpt-4\", temperature=0)\n",
    "\n",
    "\n",
    "def format_docs(docs):\n",
    "    return \"\\n\\n\".join(doc.page_content for doc in docs)\n",
    "\n",
    "\n",
    "rag_chain = (\n",
    "    {\"context\": retriever | format_docs, \"question\": RunnablePassthrough()}\n",
    "    | prompt\n",
    "    | llm\n",
    "    | StrOutputParser()\n",
    ")"
   ]
  },
  {
   "cell_type": "code",
   "execution_count": 35,
   "metadata": {},
   "outputs": [
    {
     "data": {
      "text/plain": [
       "'In Germany, asylum seekers are generally provided with three types of accommodation: initial reception centres, which include arrival centres, special reception centres, and AnkER-centres; collective accommodation centres; and decentralised accommodation. The type of accommodation you get depends on your individual circumstances. Can you tell me more about your current situation so I can provide more specific information?'"
      ]
     },
     "execution_count": 35,
     "metadata": {},
     "output_type": "execute_result"
    }
   ],
   "source": [
    "# asking a question. This method would need to be called from the frontend\n",
    "rag_chain.invoke(\"What type of accomodation do I get?\")"
   ]
  },
  {
   "cell_type": "code",
   "execution_count": 16,
   "metadata": {},
   "outputs": [],
   "source": [
    "# cleanup\n",
    "vectorstore.delete_collection()"
   ]
  }
 ],
 "metadata": {
  "kernelspec": {
   "display_name": "multimodalgenai",
   "language": "python",
   "name": "python3"
  },
  "language_info": {
   "codemirror_mode": {
    "name": "ipython",
    "version": 3
   },
   "file_extension": ".py",
   "mimetype": "text/x-python",
   "name": "python",
   "nbconvert_exporter": "python",
   "pygments_lexer": "ipython3",
   "version": "3.12.2"
  }
 },
 "nbformat": 4,
 "nbformat_minor": 2
}
